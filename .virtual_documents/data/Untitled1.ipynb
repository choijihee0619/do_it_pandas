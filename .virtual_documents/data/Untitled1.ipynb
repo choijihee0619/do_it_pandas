def my_sq(x):
    '''
    제곱해서 리턴하는 함수
    '''
    return x ** 2


my_sq(2)


def avg_2(x,y):
    '''
    두 숫자의 평균을 구하는 함수
    '''
    return (x+y)/2


avg_2(4,7)


import pandas as pd


df = pd.DataFrame({
    'a':[10,20,30],
    'b':[20,30,40]
})


df


df['a'] **2


df.a.apply(my_sq)


df.apply(my_sq)



