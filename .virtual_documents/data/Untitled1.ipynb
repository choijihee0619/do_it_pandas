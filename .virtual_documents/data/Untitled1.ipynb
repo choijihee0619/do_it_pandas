import pandas as pd
import seaborn as sns


tips = sns.load_dataset('tips')


tips.dtypes


tips.sample()


tips['sex'].astype('str')


tips.sex


tips_sub=tips.head(10).copy()


tips_sub.loc[[1,3,5,7], 'total_bill'] = 'missing'


tips_sub


tips_sub.info()


pd.to_numeric(tips_sub.total_bill)



