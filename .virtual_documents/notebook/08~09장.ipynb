import pandas as pd
import seaborn as sns
import numpy as np


tips = sns.load_dataset('tips')


tips.info()


# np.random.seed(42)
tips_10 = tips.sample(10,random_state=42)


tips_10


tips_10.loc[np.random.permutation(tips_10.index)[:4],
        'total_bill'] = np.NaN


tips_10.groupby('sex').count()


tips_10['total_bill'].fillna(tips_10['total_bill'].mean())


print(tips['size'].value_counts())


tips.groupby('size').filter(lambda x: x['size'].count()>=30)


np.nan


from numpy import NaN,nan,NAN


nan


NaN == NaN


pd.isnull(NaN)
pd.isnull(nan)
pd.isnull(NAN)


pd.notnull(np.nan)


pd.notnull('')


pd.isna(nan)


pd.read_csv('../data/survey_visited.csv',
            keep_default_na=False,
            na_values=['DR-1']).info()


pd.read_csv('../data/survey_visited.csv',na_values=[619]).info()


data = pd.read_csv('../data/survey_visited.csv')


pd.to_datetime(data['dated'])


ebola = pd.read_csv('../data/country_timeseries.csv')


ebola.count()


ebola.isnull().sum().sum()


ebola = pd.read_csv('../data/country_timeseries.csv')


ebola.info()


ebola.isnull().sum()


ebola.Cases_Guinea.fillna(0)


ebola.Cases_Guinea.fillna(method='bfill')


ebola.Cases_Guinea.interpolate()


ebola.Cases_Guinea.dropna


ebola.dropna(axis=1,how='any')


ebola.sum()



