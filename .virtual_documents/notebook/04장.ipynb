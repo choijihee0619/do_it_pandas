import seaborn as sns
import matplotlib.pyplot as plt


tips = sns.load_dataset('tips')
# 파일불러오기(데이터셋) '파일명'


tips.info()


tips.head(1)


tips.tail(1)


tips.sample()


fig = plt.figure()
plt.rc('font', family='Nanum Gothic')

axes1 = fig.add_subplot(1,1,1)

axes1.hist(data=tips,x='total_bill',bins=5,rwidth=0.5,color='mistyrose')
axes1.set_title('히스토그램')
axes1.set_xlabel('Total Bill')
axes1.set_ylabel('Frequency')

plt.show()


plt.rcParams['font.family']


import matplotlib


matplotlib.matplotlib_fname()


scatter_plot = plt.figure()
axes1 = scatter_plot.add_subplot(1,1,1)
axes1.scatter('total_bill','tip',data=tips)

plt.show()


 x=[
        tips[tips['sex'] == 'Female']['tip'],
        tips[tips['sex'] == 'Male']['tip']
]


boxplot = plt.figure()
axes1 = boxplot.add_subplot(1,1,1)
axes1.boxplot(x,tick_labels=['Female','Male'])
plt.show()


colors = {"Female": "#f1a340", "Male": "#998ec3"}
scatter_plot = plt.figure()
axes1 = scatter_plot.add_subplot(1,1,1)
axes1.scatter(data=tips,
              x='total_bill',
              y='tip',
              s=tips['size']**2*10,
              c=tips['sex'].map(colors),
              alpha=0.5
             )
                          
plt.show()


tips


sns.set_context('paper')


hist,ax = plt.subplots()
sns.histplot(data=tips, x='total_bill',ax=ax,kde=True)
ax.set_title('Total Bill Histogram')
ax.set_xlabel('aaa')
plt.show()


rug, ax = plt.subplots()
sns.rugplot(data=tips,x='total_bill',ax=ax)
sns.histplot(data=tips,x='total_bill',ax=ax)
plt.show()


fig = sns.displot(data=tips,x='total_bill',kde=True,rug=True)
fig.set_axis_labels(x_var='Total Bill', y_var='Count')
fig.figure.suptitle('Distribution of Total Bill')
plt.show()


count, ax = plt.subplots()
sns.countplot(data=tips,x='day', hue='day', palette='viridis', ax=ax)
plt.show()


scatter, ax = plt.subplots()
sns.scatterplot(data=tips, x='total_bill', y='tip', ax=ax)
ax.set_title('Scatter Plot of Total Bill and Tip')
plt.show()


reg, ax = plt.subplots()
sns.regplot(data=tips, x='total_bill', y='tip', ax=ax, fit_reg=True)
ax.set_title('Regression Plot of Total Bill and tip')

plt.show()


tips.info()


iris=sns.load_dataset('iris')


iris.info()


pair_grid=sns.PairGrid(iris)
pair_grid=pair_grid.map_upper(sns.regplot)
pair_grid=pair_grid.map_diag(sns.kdeplot)
pair_grid=pair_grid.map_lower(sns.scatterplot)



