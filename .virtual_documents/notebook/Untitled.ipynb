import pandas as pd
import seaborn as sns
import numpy as np


tips = sns.load_dataset('tips')


tips.info()


# np.random.seed(42)
tips_10 = tips.sample(10,random_state=42)


tips_10


tips_10.loc[np.random.permutation(tips_10.index)[:4],
        'total_bill'] = np.NaN


tips_10.groupby('sex').count()


tips_10['total_bill'].fillna(tips_10['total_bill'].mean())



